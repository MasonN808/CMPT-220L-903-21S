{
 "cells": [
  {
   "cell_type": "markdown",
   "metadata": {},
   "source": [
    "# Lab Four\n",
    "---\n",
    "\n",
    "For this lab we're going to be messing around with Markdown!\n",
    "\n",
    "Our Goals are:\n",
    "- Using Markdown!\n",
    "\n",
    "I want you to describe to me your process of converting the assignment and making it DRY. \n",
    "\n",
    "Please show the ability to:\n",
    "- Make a header\n",
    "- Make a list (ordered or unordered)\n",
    "- Link the Markdown Guide from the lesson. \n",
    "- Artuculate your thought process."
   ]
  },
  {
   "cell_type": "markdown",
   "metadata": {},
   "source": [
    "># People #\r\n",
    ">\r\n",
    ">1. Samuel Light\r\n",
    ">2. Dwight S.\r\n",
    "\r\n",
    "> Here is the [link](https://www.markdownguide.org) to the markdown guide.\r\n",
    "\r\n",
    "> Thought process:  I tried to minimize the total number of lines of code used.  Although I do not know if a certain loop is faster than another, I used an array to simplify the data into one line, then I used a for-each loop to sum the arrays and use these sums to produce the total cash and tips as well as number of pretzels and lemonade left.  I thought reducing the arrays into a single variables would provide the most efficent use of time."
   ]
  },
  {
   "cell_type": "markdown",
   "metadata": {},
   "source": []
  }
 ],
 "metadata": {
  "language_info": {
   "codemirror_mode": {
    "name": "ipython",
    "version": 3
   },
   "file_extension": ".py",
   "mimetype": "text/x-python",
   "name": "python",
   "nbconvert_exporter": "python",
   "pygments_lexer": "ipython3",
   "version": 3
  },
  "orig_nbformat": 2
 },
 "nbformat": 4,
 "nbformat_minor": 2
}