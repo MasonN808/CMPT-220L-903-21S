{
 "cells": [
  {
   "cell_type": "markdown",
   "metadata": {},
   "source": [
    "# Lab Three\n",
    "---\n",
    "\n",
    "For this lab we're going to be making and using a bunch of functions. \n",
    "\n",
    "Our Goals are:\n",
    "- Switch Case\n",
    "- Looping\n",
    "- Making our own functions\n",
    "- Combining functions\n",
    "- Structuring solutions"
   ]
  },
  {
   "cell_type": "code",
   "execution_count": 11,
   "metadata": {},
   "outputs": [
    {
     "name": "stdout",
     "output_type": "stream",
     "text": [
      "The color is blue\n"
     ]
    }
   ],
   "source": [
    "// Give me an example of you using switch case.\r\n",
    "String color = \"Blue\";\r\n",
    "\r\n",
    "switch (color) {\r\n",
    "    case \"Green\":\r\n",
    "        System.out.println(\"The color is green\");\r\n",
    "        break;\r\n",
    "    case \"Red\":\r\n",
    "        System.out.println(\"The color is red\");\r\n",
    "        break;\r\n",
    "    case \"Blue\":\r\n",
    "        System.out.println(\"The color is blue\");\r\n",
    "        break;\r\n",
    "    default:\r\n",
    "        System.out.println(\"The color is not green, red, or blue\");\r\n",
    "}"
   ]
  },
  {
   "cell_type": "code",
   "execution_count": 18,
   "metadata": {},
   "outputs": [
    {
     "name": "stdout",
     "output_type": "stream",
     "text": [
      "10"
     ]
    }
   ],
   "source": [
    "// Give me an example of you using a for loop\r\n",
    "int[] array = new int[] {1,2,3,4};\r\n",
    "int sum = 0;\r\n",
    "for(int i = 0;  i < array.length; i++)\r\n",
    "    sum += array[i];\r\n",
    "System.out.print(sum);"
   ]
  },
  {
   "cell_type": "code",
   "execution_count": 25,
   "metadata": {},
   "outputs": [
    {
     "name": "stdout",
     "output_type": "stream",
     "text": [
      "Einstein\n",
      "Von Neumann\n",
      "Turing\n",
      "Euler\n"
     ]
    }
   ],
   "source": [
    "// Give me an example of you using a for each loop\r\n",
    "String[] people = {\"Einstein\", \"Von Neumann\", \"Turing\", \"Euler\"};\r\n",
    "\r\n",
    "for (String i: people)\r\n",
    "    System.out.println(i);"
   ]
  },
  {
   "cell_type": "code",
   "execution_count": 2,
   "metadata": {},
   "outputs": [
    {
     "name": "stdout",
     "output_type": "stream",
     "text": [
      "19\n",
      "18\n",
      "17\n",
      "16\n",
      "15\n",
      "14\n",
      "13\n",
      "12\n",
      "11\n",
      "10\n",
      "9\n",
      "8\n",
      "7\n",
      "6\n",
      "5\n",
      "4\n",
      "3\n",
      "2\n",
      "1\n"
     ]
    }
   ],
   "source": [
    "// Give me an example of you using a while loop\r\n",
    "int n = 20;\r\n",
    "while(n > 1){\r\n",
    "    n = n-1;\r\n",
    "    System.out.println(n);\r\n",
    "}"
   ]
  },
  {
   "cell_type": "code",
   "execution_count": 155,
   "metadata": {},
   "outputs": [
    {
     "name": "stdout",
     "output_type": "stream",
     "text": [
      "2\n",
      "16\n"
     ]
    }
   ],
   "source": [
    "// I want you to write a function that will take in a number and raise it to the power given. \r\n",
    "\r\n",
    "// For example if given the numbers 2 and 3. The math that the function should do is 2^3 and should print out or return 8. Print the output.\r\n",
    "\r\n",
    "//Assuming exponent is positive integer\r\n",
    "int exponential_fn(int base, int exponent){\r\n",
    "    if(exponent != 0){\r\n",
    "        int base0 = base;\r\n",
    "        for(int i = 1; i < exponent; i++){\r\n",
    "        base *= base0;\r\n",
    "        }\r\n",
    "    }\r\n",
    "    //else if (exponent < 0){\r\n",
    "        //int base0 = base;\r\n",
    "        //for(int i = -1; i > exponent; i--){\r\n",
    "        //    base *= base0;\r\n",
    "        //}\r\n",
    "        //double base1 = 1/(double)base;\r\n",
    "        //System.out.println(base1);\r\n",
    "\r\n",
    "    else{\r\n",
    "        base = 1;\r\n",
    "    }\r\n",
    "    return base;\r\n",
    "}\r\n",
    "System.out.println(exponential_fn(2,1));\r\n",
    "System.out.println(exponential_fn(2,4));\r\n",
    "\r\n"
   ]
  },
  {
   "cell_type": "code",
   "execution_count": 136,
   "metadata": {},
   "outputs": [
    {
     "name": "stdout",
     "output_type": "stream",
     "text": [
      "4\n",
      "2\n"
     ]
    }
   ],
   "source": [
    "// I want you to write a function that will take in a list and see how many times a given number is in the list. \r\n",
    "\r\n",
    "// For example if the array given is [2,3,5,2,3,6,7,8,2] and the number given is 2 the function should print out or return 3. Print the output.\r\n",
    "\r\n",
    "static void pick(int[] intarray, int num){\r\n",
    "    int total = 0;\r\n",
    "    for(int i: intarray){\r\n",
    "        if(i == num){\r\n",
    "            total++;\r\n",
    "        }\r\n",
    "    }\r\n",
    "    System.out.println(total);\r\n",
    "}\r\n",
    "int[] nums = {1,2,3,2,3,3,3,1};\r\n",
    "pick(nums, 3);\r\n",
    "pick(nums, 1);"
   ]
  },
  {
   "cell_type": "code",
   "execution_count": 159,
   "metadata": {},
   "outputs": [
    {
     "data": {
      "text/plain": "2.8284271247461903"
     },
     "execution_count": 159,
     "metadata": {},
     "output_type": "execute_result"
    }
   ],
   "source": [
    "// Give me a function that gives the answer to the pythagorean theorem. \r\n",
    "// I'd like you to reuse the exponent function from above as well as the functions below to make your function.\r\n",
    "\r\n",
    "// If you don't remember the pythagorean theorem the formula is (a^2 + b^2 = c^2). Given a and b as parameters i'd like you to return c. \r\n",
    "// If this doesn't make sense look up `Pythagorean Theorem Formula` on google.\r\n",
    "\r\n",
    "int addition(int a, int b) {\r\n",
    "    int answer = a + b;\r\n",
    "    return answer;\r\n",
    "}\r\n",
    "\r\n",
    "int division(int a, int b) {\r\n",
    "    int answer = a / b;\r\n",
    "    return answer;\r\n",
    "}\r\n",
    "\r\n",
    "double pyth(int a, int b) {\r\n",
    "    return(Math.sqrt(addition(exponential_fn(a,2), exponential_fn(a,2))));\r\n",
    "\r\n",
    "}\r\n",
    "pyth(2,4);\r\n",
    "\r\n"
   ]
  }
 ],
 "metadata": {
  "kernelspec": {
   "display_name": "Java",
   "language": "java",
   "name": "java"
  },
  "language_info": {
   "codemirror_mode": "java",
   "file_extension": ".jshell",
   "mimetype": "text/x-java-source",
   "name": "Java",
   "pygments_lexer": "java",
   "version": "15.0.2+7-27"
  },
  "orig_nbformat": 2
 },
 "nbformat": 4,
 "nbformat_minor": 2
}