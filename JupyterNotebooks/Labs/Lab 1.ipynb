{
 "cells": [
  {
   "cell_type": "markdown",
   "metadata": {},
   "source": [
    "# Lab One\n",
    "---\n",
    "\n",
    "Ok for this lab we're going to reiterate a lot of the things that we went over in class.\n",
    "\n",
    "Our Goals are:\n",
    "- Binary Math\n",
    "- Defining Variables\n",
    "    - Primitive Types\n",
    "    - Reference Types\n",
    "- Using Math\n",
    "- Manipulating Variables"
   ]
  },
  {
   "cell_type": "markdown",
   "metadata": {},
   "source": [
    "For this section I just want you to type the answer. I know that you can just look this up but try and do the math. \r\n",
    "### What is 1000 in Decimal\r\n",
    "8\r\n",
    "### What is 1000 1001 in Decimal (This is a byte. It's just split for readability)\r\n",
    "137\r\n",
    "### What is 1010 1111 in Decimal (This is a byte. It's just split for readability)\r\n",
    "175\r\n",
    "### What is 0101 1010 in Decimal (This is a byte. It's just split for readability)\r\n",
    "90"
   ]
  },
  {
   "cell_type": "code",
   "execution_count": 9,
   "metadata": {},
   "outputs": [
    {
     "name": "stdout",
     "output_type": "stream",
     "text": [
      "true\n",
      "126\n",
      "32766\n",
      "100000\n",
      "1000\n",
      "0.1\n",
      "0.66\n",
      "g"
     ]
    }
   ],
   "source": [
    "// Define 8 variables, one of each type listed: [boolean, byte, short, int, long, float, double, char]. Print all 8 of them.\r\n",
    "boolean a = true;\r\n",
    "byte b = 126;\r\n",
    "short c =  32766;\r\n",
    "int d = 100000;\r\n",
    "long e = 1000;\r\n",
    "float f = 0.1f;\r\n",
    "double g = .66;\r\n",
    "char h = 'g';\r\n",
    "\r\n",
    "System.out.println(a);\r\n",
    "System.out.println(b);\r\n",
    "System.out.println(c);\r\n",
    "System.out.println(d);\r\n",
    "System.out.println(e);\r\n",
    "System.out.println(f);\r\n",
    "System.out.println(g);\r\n",
    "System.out.print(h);\r\n"
   ]
  },
  {
   "cell_type": "code",
   "execution_count": 41,
   "metadata": {},
   "outputs": [
    {
     "name": "stdout",
     "output_type": "stream",
     "text": [
      "[1, 2, 3]"
     ]
    }
   ],
   "source": [
    "// Make me a list of any type\r\n",
    "List<Integer> new_list = new ArrayList<>();\r\n",
    "new_list.add(1);\r\n",
    "new_list.add(2);\r\n",
    "new_list.add(3);\r\n",
    "System.out.print(new_list)"
   ]
  },
  {
   "cell_type": "code",
   "execution_count": 48,
   "metadata": {},
   "outputs": [
    {
     "name": "stdout",
     "output_type": "stream",
     "text": [
      "7\n",
      "3\n",
      "2\n",
      "10\n",
      "1\n"
     ]
    }
   ],
   "source": [
    "// With whatever variables you'd like demonstrate the following: [Addition, Subtraction, Division, Multiplication, Modulo]. Print all 5.\r\n",
    "int a = 5;\r\n",
    "int b = 2;\r\n",
    "\r\n",
    "System.out.println(a+b);\r\n",
    "System.out.println(a-b);\r\n",
    "System.out.println(a/b);\r\n",
    "System.out.println(a*b);\r\n",
    "System.out.println(a%b);"
   ]
  },
  {
   "cell_type": "code",
   "execution_count": 50,
   "metadata": {},
   "outputs": [
    {
     "name": "stdout",
     "output_type": "stream",
     "text": [
      "57"
     ]
    }
   ],
   "source": [
    "// Using 2 variables and addition print the number 57\r\n",
    "int a = 50;\r\n",
    "int b = 7;\r\n",
    "\r\n",
    "System.out.print(a+b);"
   ]
  },
  {
   "cell_type": "code",
   "execution_count": 52,
   "metadata": {},
   "outputs": [
    {
     "name": "stdout",
     "output_type": "stream",
     "text": [
      "7\n",
      "9"
     ]
    }
   ],
   "source": [
    "// Define a variable and print it out. Then alter the same variable and print it out. This can be through string concatenation or addition, etc.\r\n",
    "\r\n",
    "int a = 7;\r\n",
    "System.out.println(a);\r\n",
    "int a = 9;\r\n",
    "System.out.print(a);"
   ]
  }
 ],
 "metadata": {
  "kernelspec": {
   "display_name": "Java",
   "language": "java",
   "name": "java"
  },
  "language_info": {
   "codemirror_mode": {
    "name": "ipython",
    "version": 3
   },
   "file_extension": ".py",
   "mimetype": "text/x-python",
   "name": "python",
   "nbconvert_exporter": "python",
   "pygments_lexer": "ipython3",
   "version": "3.8.5-final"
  },
  "orig_nbformat": 2
 },
 "nbformat": 4,
 "nbformat_minor": 2
}