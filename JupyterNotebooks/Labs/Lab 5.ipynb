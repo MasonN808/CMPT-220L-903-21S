{
 "cells": [
  {
   "cell_type": "markdown",
   "metadata": {},
   "source": [
    "# Lab Five\n",
    "---\n",
    "\n",
    "For this lab we're going to be messing around with our Linear Data Types!\n",
    "\n",
    "Our Goals are:\n",
    "- Creating an Array\n",
    "- Creating an ArrayList\n",
    "- Creating an LinkedList\n",
    "- Creating an Queue\n",
    "- Creating an Stack \n",
    "\n",
    "Please show the ability to:\n",
    "- Create these data types\n",
    "- Populate the data types\n",
    "- Print out the Linear Data Types"
   ]
  },
  {
   "cell_type": "code",
   "execution_count": 11,
   "metadata": {},
   "outputs": [
    {
     "name": "stdout",
     "output_type": "stream",
     "text": [
      "2.2\n",
      "3.3\n",
      "4.5\n",
      "1.2\n"
     ]
    }
   ],
   "source": [
    "// Create an Array, Populate it, and Print it out\r\n",
    "\r\n",
    "double[] myArray =  {2.2, 3.3, 4.5, 1.2};\r\n",
    "\r\n",
    "for (double i : myArray){\r\n",
    "    System.out.println(i);\r\n",
    "}\r\n"
   ]
  },
  {
   "cell_type": "code",
   "execution_count": 21,
   "metadata": {},
   "outputs": [
    {
     "name": "stdout",
     "output_type": "stream",
     "text": [
      "[231, 12, 33223, 41]\n"
     ]
    }
   ],
   "source": [
    "// Create an ArrayList, Populate it, and Print it out\r\n",
    "ArrayList<Integer> myArrayList = new ArrayList<Integer>();\r\n",
    "myArrayList.add(231);\r\n",
    "myArrayList.add(12);\r\n",
    "myArrayList.add(33223);\r\n",
    "myArrayList.add(41);\r\n",
    "System.out.println(myArrayList);\r\n"
   ]
  },
  {
   "cell_type": "code",
   "execution_count": 20,
   "metadata": {},
   "outputs": [
    {
     "name": "stdout",
     "output_type": "stream",
     "text": [
      "[21, 33, 42, 522]\n"
     ]
    }
   ],
   "source": [
    "// Create an LinkedList, Populate it, and Print it out\r\n",
    "\r\n",
    "LinkedList<Integer> myLinkedList = new LinkedList<Integer>();\r\n",
    "myLinkedList.add(21);\r\n",
    "myLinkedList.add(33);\r\n",
    "myLinkedList.add(42);\r\n",
    "myLinkedList.add(522);\r\n",
    "System.out.println(myLinkedList);"
   ]
  },
  {
   "cell_type": "code",
   "execution_count": 22,
   "metadata": {},
   "outputs": [
    {
     "name": "stdout",
     "output_type": "stream",
     "text": [
      "[This, is, a, Queue]\n"
     ]
    }
   ],
   "source": [
    "// Create an Queue, Populate it, and Print it out\r\n",
    "\r\n",
    "Queue<String> myQueue = new LinkedList<String>();\r\n",
    "myQueue.add(\"This\");\r\n",
    "myQueue.add(\"is\");\r\n",
    "myQueue.add(\"a\");\r\n",
    "myQueue.add(\"Queue\");\r\n",
    "System.out.println(myQueue);"
   ]
  },
  {
   "cell_type": "code",
   "execution_count": 25,
   "metadata": {},
   "outputs": [
    {
     "name": "stdout",
     "output_type": "stream",
     "text": [
      "[1, 4, 3, 12, 123, 11233, 112323]\n"
     ]
    }
   ],
   "source": [
    "// Create an Stack, Populate it, and Print it out\r\n",
    "\r\n",
    "Stack<Integer> myStack = new Stack<Integer>();\r\n",
    "\r\n",
    "myStack.push(1);\r\n",
    "myStack.push(4);\r\n",
    "myStack.push(3);\r\n",
    "myStack.push(12);\r\n",
    "myStack.push(123);\r\n",
    "myStack.push(11233);\r\n",
    "myStack.push(112323);\r\n",
    "\r\n",
    "System.out.println(myStack);"
   ]
  }
 ],
 "metadata": {
  "kernelspec": {
   "display_name": "Java",
   "language": "java",
   "name": "java"
  },
  "language_info": {
   "codemirror_mode": "java",
   "file_extension": ".jshell",
   "mimetype": "text/x-java-source",
   "name": "Java",
   "pygments_lexer": "java",
   "version": "15.0.2+7-27"
  },
  "orig_nbformat": 2
 },
 "nbformat": 4,
 "nbformat_minor": 2
}