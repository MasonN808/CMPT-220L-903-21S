{
 "cells": [
  {
   "cell_type": "markdown",
   "metadata": {},
   "source": [
    "# Lab Two\n",
    "---\n",
    "\n",
    "Ok for this lab we're going to reiterate a lot of the things that we went over in class.\n",
    "\n",
    "Our Goals are:\n",
    "- Conditionals\n",
    "    - If\n",
    "    - Else\n",
    "    - Else If"
   ]
  },
  {
   "cell_type": "code",
   "execution_count": 3,
   "metadata": {},
   "outputs": [],
   "source": [
    "// Make an if statement\r\n",
    "int a = 60;\r\n",
    "if (a == 90){\r\n",
    "    System.out.print(\"a is 90\");\r\n",
    "}"
   ]
  },
  {
   "cell_type": "code",
   "execution_count": 5,
   "metadata": {},
   "outputs": [
    {
     "name": "stdout",
     "output_type": "stream",
     "text": [
      "a is not 90\n"
     ]
    }
   ],
   "source": [
    "// Make an if, else statement where the else statement triggers\r\n",
    "int a = 60;\r\n",
    "if (a == 90){\r\n",
    "    System.out.println(\"a is 90\");\r\n",
    "} else{\r\n",
    "    System.out.println(\"a is not 90\");\r\n",
    "}"
   ]
  },
  {
   "cell_type": "code",
   "execution_count": 6,
   "metadata": {},
   "outputs": [
    {
     "name": "stdout",
     "output_type": "stream",
     "text": [
      "a is less than b\n"
     ]
    }
   ],
   "source": [
    "// Make an if, else if, else statement where the else if statement triggers\r\n",
    "int a  = 1;\r\n",
    "int b = 2;\r\n",
    "\r\n",
    "if (a == b){\r\n",
    "    System.out.println(\"a and b are equal\");\r\n",
    "} else if ( a < b){\r\n",
    "    System.out.println(\"a is less than b\");\r\n",
    "} else {\r\n",
    "    System.out.println(\"a is greater than b\");\r\n",
    "}"
   ]
  },
  {
   "cell_type": "code",
   "execution_count": 7,
   "metadata": {},
   "outputs": [
    {
     "name": "stdout",
     "output_type": "stream",
     "text": [
      "a is not equivalent to b\n"
     ]
    }
   ],
   "source": [
    "// Make 2 variables and use them in an if else conditional\r\n",
    "int a  = 1;\r\n",
    "int b = 2;\r\n",
    "\r\n",
    "if (a == b){\r\n",
    "    System.out.println(\"a is equivalent to b\");\r\n",
    "} else {\r\n",
    "    System.out.println(\"a is not equivalent to b\");\r\n",
    "}"
   ]
  },
  {
   "cell_type": "code",
   "execution_count": 9,
   "metadata": {},
   "outputs": [
    {
     "name": "stdout",
     "output_type": "stream",
     "text": [
      " a and b are 1\n"
     ]
    }
   ],
   "source": [
    "// Make an if statement using 2 variables and an AND(&&) statement\r\n",
    "int a = 1;\r\n",
    "int b = 1;\r\n",
    "if (a == 1 && b == 1){\r\n",
    "    System.out.println(\" a and b are 1\");\r\n",
    "}"
   ]
  },
  {
   "cell_type": "code",
   "execution_count": 12,
   "metadata": {},
   "outputs": [
    {
     "name": "stdout",
     "output_type": "stream",
     "text": [
      " a or b is 1\n"
     ]
    }
   ],
   "source": [
    "// Make an if statement using 2 variables and an OR(||) statement\r\n",
    "int a = 0;\r\n",
    "int b = 1;\r\n",
    "if (a == 1 || b == 1){\r\n",
    "    System.out.println(\" a or b is 1\");\r\n",
    "}"
   ]
  }
 ],
 "metadata": {
  "kernelspec": {
   "display_name": "Java",
   "language": "java",
   "name": "java"
  },
  "language_info": {
   "codemirror_mode": "java",
   "file_extension": ".jshell",
   "mimetype": "text/x-java-source",
   "name": "Java",
   "pygments_lexer": "java",
   "version": "15.0.2+7-27"
  },
  "orig_nbformat": 2
 },
 "nbformat": 4,
 "nbformat_minor": 2
}